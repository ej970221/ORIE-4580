{
  "cells": [
    {
      "cell_type": "markdown",
      "metadata": {
        "id": "view-in-github",
        "colab_type": "text"
      },
      "source": [
        "<a href=\"https://colab.research.google.com/github/ej970221/ORIE-4580/blob/main/HW5_KJ%2CER.ipynb\" target=\"_parent\"><img src=\"https://colab.research.google.com/assets/colab-badge.svg\" alt=\"Open In Colab\"/></a>"
      ]
    },
    {
      "cell_type": "markdown",
      "metadata": {
        "id": "yEYDm_ICb4GC"
      },
      "source": [
        "# ORIE 4580/5580/5581 Assignment 5\n",
        "\n",
        "#### Students: Eunyoung Katie Jung (ej97) and Emuna Rouhani (er443)\n",
        "\n",
        "### Github link: [example Github link](https://github.com/SidBanerjee/ORIE4580-Simulation/blob/main/Notebooks/Unit0-Intro_Demos.ipynb)\n"
      ]
    },
    {
      "cell_type": "markdown",
      "source": [
        "Discussed problems with Amy Chitnumsab (ac2295),\n",
        "Shiyu Chen (sc3283)\n",
        "\n",
        "Visited Office hours."
      ],
      "metadata": {
        "id": "FWmibPOS1Q7r"
      }
    },
    {
      "cell_type": "markdown",
      "metadata": {
        "id": "l3G_wUFRg9v6"
      },
      "source": [
        "### Instructions\n",
        "\n",
        "\n",
        "* Due Friday, October 13, at 11.59am on Gradescope.\n",
        "* Assignment .ipynb files available for download on [Canvas](https://canvas.cornell.edu/courses/56826#:~:text=Assignments-,Assignments,-Assignments%20Module%20publish). Do all your work in provided notebook (text answers typeset in markdown; show all required code and generate plots inline), and then generate and submit a pdf.\n",
        "* Ideally do assignments in groups of 2, and submit a single pdf with both names\n",
        "* Please show your work and clearly mark your answers.\n",
        "* You can use any code fragments given in class, found online (for example, on StackOverflow), or generated via Bard or ChatGPT (you are encouraged to use these for first drafts) **with proper referencing**. You can also discuss with others (again, please reference them if you do so); but you must write your final answers on your own as a team.\n",
        "\n",
        "\n",
        "\n",
        "### Suggested reading\n",
        "\n",
        "Chapters 8 (all parts) and 9 (up to Section 9.2 for the midterm) of [Simulation by Ross](https://catalog.library.cornell.edu/catalog/12745977)."
      ]
    },
    {
      "cell_type": "markdown",
      "metadata": {
        "id": "5AMJpIgg0AUP"
      },
      "source": [
        "\n",
        "\n",
        "\n",
        "---\n",
        "---\n",
        "\n",
        "\n",
        "# Question 1: Red-Tailed Hawks! (15 points)\n",
        "\n",
        "(Dedicated to [Big Red and Arthur](https://www.youtube.com/watch?v=diIn5tc8AJo), and their amazing family!)\n",
        "\n",
        "A School of Ornithology researcher wants to estimate the number of red-tailed hawks in Ithaca. She radio tags 10 birds, and then sets up a feeding station with automatic camera.\n",
        "\n",
        "The researcher believes that each individual bird's visits to the feeder can be modeled as a *Poisson process* with some unknown rate $\\lambda$; we will talk more about the Poisson process in detail later in the semester (for a quick refresher, see Section 2.9.4 of Ross), but for this question, the main thing you need to know is that this is a process that counts a discrete number of arrivals, where the *inter-arrival* between one arrival and the next is independent and identically distributed as an Exponential$(\\lambda)$ random variable (similar to the trains in question 5b in the previous assignment).\n",
        "\n",
        "**(a)**\n",
        "Over the first five weeks, the researcher observes an average of 28.8 birds (tagged and untagged) visiting the feeder, with an average of 6 tagged birds per week. Use the method of moments to obtain an estimate for the total population."
      ]
    },
    {
      "cell_type": "markdown",
      "metadata": {
        "id": "FdZFPY8J00Nz"
      },
      "source": [
        "___\n",
        "## Ans.\n",
        "Let $n$ represent the total population of red-tailed hawks in Ithaca. We could use the first moment of expectation. Using the Poisson property of thinning, we can set up the following equality:\n",
        "\n",
        "$ Poisson (\\frac{10}{n} \\cdot \\lambda) = 6 $\n",
        "\n",
        "$n = \\frac{10}{6} \\cdot \\lambda = \\frac{10}{6} \\cdot 28.8 = 48$"
      ]
    },
    {
      "cell_type": "markdown",
      "metadata": {
        "id": "kHPnqRj105lL"
      },
      "source": [
        "___\n",
        "\n",
        "**(b)** Next, the researcher develops a video processing program which can identify and distinguish different individual birds from their pictures. Using this, over the next week, she observes 20 unique birds visiting the feeding station, out of which 4 are tagged. What is the MLE for the size of the hawk population in Ithaca?\n",
        "\n",
        "___"
      ]
    },
    {
      "cell_type": "markdown",
      "metadata": {
        "id": "o-b5c59b2CV-"
      },
      "source": [
        "## Ans.\n",
        "\n"
      ]
    },
    {
      "cell_type": "markdown",
      "metadata": {
        "id": "mT-3ogKx2Hzl"
      },
      "source": [
        "Let $n$ represent the hawk population. We rewrite the pmf as:\n",
        "\n",
        "Probability of observing 20 unique birds, out of which 4 are tagged $= \\frac{event}{all outcomes} =$ ${ {10 \\choose 4} {n-10 \\choose 16}} \\over{n \\choose 20}$\n",
        "\n",
        "$n\\approx49$"
      ]
    },
    {
      "cell_type": "markdown",
      "metadata": {
        "id": "YX0Mw-EVb4GE"
      },
      "source": [
        "___\n",
        "___\n",
        "\n",
        "# Question 2: Soup for Lunch? (15 points)\n",
        "\n",
        "The folks at the [Temple of Zeus](https://as.cornell.edu/about/temple-of-zeus) have the best soup offerings at Cornell -- however, by the time you are done with Simulation, they often run out of soup. To remedy this, you want to try and understand the demand for soup, so that you can suggest how much they should make. You decide to model the total demand $N$ for soups each day as a geometric random variable with parameter $p$ (i.e., $P(N = k) = (1-p)^kp$, $k \\ge 0$).\n",
        "\n",
        "The Temple of Zeus manager gives you data for the number of lunches sold in the last $100$ days. One problem though is that the data is *censored*: the staff prepared soup for at most $40$ servings each day, and as a result, the number of sales each day is between 0 and 40. As a result, on days when the number of soups sold is $40$, you cannot be sure what the true demand $N_i$ was (but you know $N_i\\geq 40$); on other days, the number of soups sold is the true demand $N_i<40$."
      ]
    },
    {
      "cell_type": "markdown",
      "metadata": {
        "id": "Yjy3dHqpb4GF"
      },
      "source": [
        "___\n",
        "\n",
        "**(a)**\n",
        "What is the probability mass function of the per-day sales $Y$ in terms of $p$?\n",
        "___\n"
      ]
    },
    {
      "cell_type": "markdown",
      "metadata": {
        "id": "wOQnI769b4GF"
      },
      "source": [
        "## Ans.\n"
      ]
    },
    {
      "cell_type": "markdown",
      "source": [
        "When $N_i < 40, Y = N_i$\n",
        "\n",
        "When $N_i \\ge 40, Y = 40$\n",
        "\n",
        "The total demand for each day is a geometric random variable where $P(N = k) = (1-p)^kp$, $k \\ge 0$\n",
        "\n",
        "Therefore, when $Y < 40,\\  P(N=Y) = (1-p)^kp$\n",
        "However, since it is alwys going to be 40 whenever Y is greater than or equal to 40, therefore, when $ Y \\ge 40, P(N=Y) = P(N=40) = (1-p)^{40}$"
      ],
      "metadata": {
        "id": "sOcXV5JXx2ai"
      }
    },
    {
      "cell_type": "markdown",
      "metadata": {
        "id": "DRpHC9hbb4GF"
      },
      "source": [
        "___\n",
        "\n",
        "**(b)** Compute a maximum likelihood estimator of $p$ based on the sales data for soup given in `Soup_sales_data.csv`.\n",
        "___"
      ]
    },
    {
      "cell_type": "markdown",
      "metadata": {
        "id": "1khe5-56b4GF"
      },
      "source": [
        "## Ans.\n"
      ]
    },
    {
      "cell_type": "markdown",
      "source": [
        "$L(p) = \\prod_{j=1}^z (1-p)^{40}\\cdot \\prod_{i=1}^x (1-p)^{Y_i} \\cdot p $\n",
        "\n",
        "= $(1-p)^{40z} \\cdot \\sum_{i=1}^x(1-p)^{Y_i} \\cdot p^x$\n",
        "\n",
        "Therefore,\n",
        "\n",
        "$log(L) = 40z\\ log(1-p) + \\sum_{i=1}^x(1-p)^{Y_i}\\ log(1-p) + x \\ log( p)$\n",
        "\n",
        "MLE is at where $\\frac{dlog(L)}{dp}= 0 $\n",
        "\n",
        "\n",
        "Therefore, $\\frac{dlog(L)}{dp} = \\frac{-40z}{1-p}+ \\frac{-\\sum_{i=1}^x{Y_i}}{1-p}+\\frac{x}{p}$\n",
        "\n",
        "= $\\frac{-40z +-\\sum_{i=1}^x{Y_i}}{1-p} + \\frac{x}{p}=0$\n",
        "\n",
        "Therefore, $p(-40z +-\\sum_{i=1}^x{Y_i})+x(1-p) = (-40z +-\\sum_{i=1}^x{Y_i}-x)p+x = 0$\n",
        "\n",
        "Therefore, $p = \\frac{x}{-(-40z +-\\sum_{i=1}^x{Y_i}-x)}= \\frac{x}{(40z +\\sum_{i=1}^x{Y_i}+x)} $"
      ],
      "metadata": {
        "id": "kpuNHHXbyE0j"
      }
    },
    {
      "cell_type": "code",
      "execution_count": null,
      "metadata": {
        "id": "00N4KuJqlEHf"
      },
      "outputs": [],
      "source": [
        "from google.colab import files\n",
        "uploaded = files.upload()"
      ]
    },
    {
      "cell_type": "code",
      "source": [
        "import pandas as pd\n",
        "df = pd.read_csv('Soup_sales_data.csv')"
      ],
      "metadata": {
        "id": "yKrjcx1myY7p"
      },
      "execution_count": 2,
      "outputs": []
    },
    {
      "cell_type": "code",
      "source": [
        "import numpy as np\n",
        "x = len(df[df['Y']<40])\n",
        "z = len(df[df['Y']== 40])\n",
        "\n",
        "Y = df['Y']\n",
        "sum = np.sum(Y[Y < 40])\n",
        "\n",
        "mle_p = x / (sum + 40 * z +x)\n",
        "print(mle_p)"
      ],
      "metadata": {
        "colab": {
          "base_uri": "https://localhost:8080/"
        },
        "id": "kVx71NQgycLD",
        "outputId": "6523535b-cb92-499c-c6cd-191f43fac142"
      },
      "execution_count": 4,
      "outputs": [
        {
          "output_type": "stream",
          "name": "stdout",
          "text": [
            "0.02679658952496955\n"
          ]
        }
      ]
    },
    {
      "cell_type": "markdown",
      "source": [
        "Reference:ChatGPT"
      ],
      "metadata": {
        "id": "zv5BOk5F1N5_"
      }
    },
    {
      "cell_type": "markdown",
      "metadata": {
        "id": "Lh-UW13FuhSQ"
      },
      "source": [
        "___\n",
        "___\n",
        "\n",
        "# Question 3: The Birthday Paradox (40 pts)\n",
        "\n",
        "In this question, we investigate the celebrated [birthday paradox](https://en.wikipedia.org/wiki/Birthday_problem)!"
      ]
    },
    {
      "cell_type": "markdown",
      "metadata": {
        "id": "yc0A7WxsuyEy"
      },
      "source": [
        "___\n",
        "\n",
        "**(a)** The basic question you may have seen in earlier probability courses is the following: given a party of $n$ people whose birthdays are drawn uniformly over the $365$ days in the year, what is the probability that at least two people share a birthday. Derive an expression for the probability, and plot it for $n\\in\\{10,11,12,\\ldots,49,50\\}$.\n",
        "___"
      ]
    },
    {
      "cell_type": "markdown",
      "metadata": {
        "id": "EGsUT8JvwI-7"
      },
      "source": [
        "## Ans."
      ]
    },
    {
      "cell_type": "code",
      "execution_count": null,
      "metadata": {
        "id": "CGZf5O0Kx9Ws",
        "outputId": "604f222a-18db-45d9-ce4a-a3c699d0b296"
      },
      "outputs": [
        {
          "data": {
            "image/png": "[encoded data removed]",
            "text/plain": [
              "<Figure size 720x432 with 1 Axes>"
            ]
          },
          "metadata": {
            "needs_background": "light"
          },
          "output_type": "display_data"
        }
      ],
      "source": [
        "import matplotlib.pyplot as plt\n",
        "\n",
        "def probability_no_shared_birthdays(n):\n",
        "    prob = 1.0\n",
        "    for i in range(n):\n",
        "        prob *= (365 - i) / 365\n",
        "    return prob\n",
        "\n",
        "n_values = list(range(10, 51))\n",
        "probabilities = [1 - probability_no_shared_birthdays(n) for n in n_values]\n",
        "\n",
        "plt.figure(figsize=(10, 6))\n",
        "plt.plot(n_values, probabilities, marker='o', linestyle='-')\n",
        "plt.title(\"Probability of at Least Two People Sharing a Birthday\")\n",
        "plt.xlabel(\"Number of People (n)\")\n",
        "plt.ylabel(\"Probability\")\n",
        "plt.grid(True)\n",
        "plt.show()\n"
      ]
    },
    {
      "cell_type": "markdown",
      "source": [
        "Reference:ChatGPT"
      ],
      "metadata": {
        "id": "vXSXlD1I1JqR"
      }
    },
    {
      "cell_type": "markdown",
      "metadata": {
        "id": "QhBwTPrLwKhV"
      },
      "source": [
        "___\n",
        "**(b)** Next, we want to obtain the above probabilities by simulation. For a given $n$, perform simulations so as to estimate the probability  of at least two people sharing birthdays in a group of $n$, for $n\\in\\{15,16,\\ldots,30\\}$, up to $2$ decimal places (with $95\\%$ confidence). Plot the estimates and $95\\%$ CI, and also plot the theoretical result from part $(a)$ in the same plot.\n",
        "___"
      ]
    },
    {
      "cell_type": "code",
      "execution_count": null,
      "metadata": {
        "id": "MaeARzyJxoID",
        "outputId": "66c0bdd4-734b-4132-d2bb-cf9bd93ee65b"
      },
      "outputs": [
        {
          "data": {
            "image/png": "[encoded data removed]",
            "text/plain": [
              "<Figure size 864x504 with 1 Axes>"
            ]
          },
          "metadata": {
            "needs_background": "light"
          },
          "output_type": "display_data"
        }
      ],
      "source": [
        "import numpy as np\n",
        "import matplotlib.pyplot as plt\n",
        "\n",
        "# Functions from previous step for theoretical probabilities\n",
        "def probability_no_shared_birthday(n):\n",
        "    prob = 1.0\n",
        "    for i in range(n):\n",
        "        prob *= (365 - i) / 365\n",
        "    return prob\n",
        "\n",
        "def probability_shared_birthday(n):\n",
        "    return 1 - probability_no_shared_birthday(n)\n",
        "\n",
        "# Simulation\n",
        "def simulate_birthday_problem(n, trials=10000):\n",
        "    count_shared = 0\n",
        "    for _ in range(trials):\n",
        "        birthdays = np.random.choice(365, n, replace=True)\n",
        "        if len(birthdays) != len(set(birthdays)):\n",
        "            count_shared += 1\n",
        "    return count_shared / trials\n",
        "\n",
        "# Calculating 95% CI\n",
        "def confidence_interval(p, trials):\n",
        "    MOE = 1.96 * np.sqrt(p*(1-p)/trials)\n",
        "    return (p - MOE, p + MOE)\n",
        "\n",
        "n_values = list(range(15, 31))\n",
        "simulated_probabilities = []\n",
        "lower_bounds = []\n",
        "upper_bounds = []\n",
        "\n",
        "T = 10000\n",
        "for n in n_values:\n",
        "    p = simulate_birthday_problem(n, T)\n",
        "    simulated_probabilities.append(p)\n",
        "    lb, ub = confidence_interval(p, T)\n",
        "    lower_bounds.append(lb)\n",
        "    upper_bounds.append(ub)\n",
        "\n",
        "# Theoretical probabilities\n",
        "theoretical_probs = [probability_shared_birthday(n) for n in n_values]\n",
        "\n",
        "# Plotting\n",
        "plt.figure(figsize=(12, 7))\n",
        "plt.errorbar(n_values, simulated_probabilities, yerr=[simulated_probabilities[i] - lower_bounds[i] for i in range(len(n_values))], fmt='o', label='Simulated Probabilities with 95% CI', capsize=5)\n",
        "plt.plot(n_values, theoretical_probs, 'r-', label='Theoretical Probabilities')\n",
        "plt.title(\"Probability of at least one shared birthday among n people\")\n",
        "plt.xlabel(\"Number of people (n)\")\n",
        "plt.ylabel(\"Probability\")\n",
        "plt.legend()\n",
        "plt.grid(True)\n",
        "plt.show()\n"
      ]
    },
    {
      "cell_type": "markdown",
      "source": [
        "Reference:ChatGPT"
      ],
      "metadata": {
        "id": "mCOZ_mAQ1EU5"
      }
    },
    {
      "cell_type": "markdown",
      "metadata": {
        "id": "_u8ikVrMx664"
      },
      "source": [
        "## Ans."
      ]
    },
    {
      "cell_type": "markdown",
      "metadata": {
        "id": "fT4Jt0Inx99q"
      },
      "source": [
        "\n",
        "\n",
        "---\n",
        "\n",
        "**(c)** One flaw in our analysis is that birth-dates may not be uniformly distributed throughout the year. To check this, we can look at data of real birth-dates.\n",
        "\n",
        "The file `bdaydata.txt` has a list of $365$ days in the year (excluding February $29$) and the corresponding number of birthdays on that date. Load the dataset and plot the following:\n",
        "\n",
        "i. Empirical histogram of the data\n",
        "\n",
        "ii. Empirical cdf\n",
        "\n",
        "iii. Q-Q plot comparing the data to a uniform distribution\n",
        "\n",
        "(Dataset based on life insurance data from 1981-94; data and example courtesy [Roy Murphy](http://www.panix.com/~murphy/bday.html).)\n",
        "___"
      ]
    },
    {
      "cell_type": "markdown",
      "metadata": {
        "id": "g4c_Csc_ywpw"
      },
      "source": [
        "## Ans."
      ]
    },
    {
      "cell_type": "code",
      "execution_count": null,
      "metadata": {
        "id": "2G2TKGUaxoID",
        "outputId": "116c01dd-f4b3-496b-b922-3dde878b8165"
      },
      "outputs": [
        {
          "data": {
            "image/png": "[encoded data removed]",
            "text/plain": [
              "<Figure size 720x432 with 1 Axes>"
            ]
          },
          "metadata": {
            "needs_background": "light"
          },
          "output_type": "display_data"
        }
      ],
      "source": [
        "import numpy as np\n",
        "import matplotlib.pyplot as plt\n",
        "\n",
        "# Load data from the file\n",
        "with open('bdaydata.txt', 'r') as file:\n",
        "    lines = file.readlines()\n",
        "\n",
        "# Extract counts from the lines\n",
        "counts = [int(line.split()[1]) for line in lines[1:]]\n",
        "\n",
        "# Create an empirical histogram\n",
        "plt.figure(figsize=(10, 6))\n",
        "plt.hist(range(1, 366), bins=30, weights=counts, edgecolor='black')\n",
        "plt.title(\"Empirical Histogram of Birthdays\")\n",
        "plt.xlabel(\"Day of the Year\")\n",
        "plt.ylabel(\"Frequency\")\n",
        "plt.grid(True)\n",
        "plt.show()\n"
      ]
    },
    {
      "cell_type": "code",
      "execution_count": null,
      "metadata": {
        "id": "w560CoyCxoID",
        "outputId": "8c8e8001-2113-4f0e-ef9a-3e63e93e3e83"
      },
      "outputs": [
        {
          "data": {
            "image/png": "[encoded data removed]",
            "text/plain": [
              "<Figure size 720x432 with 1 Axes>"
            ]
          },
          "metadata": {
            "needs_background": "light"
          },
          "output_type": "display_data"
        }
      ],
      "source": [
        "import numpy as np\n",
        "import matplotlib.pyplot as plt\n",
        "\n",
        "# Load data from the file\n",
        "with open('bdaydata.txt', 'r') as file:\n",
        "    lines = file.readlines()\n",
        "\n",
        "# Extract counts from the lines\n",
        "counts = [int(line.split()[1]) for line in lines[1:]]\n",
        "\n",
        "# Calculate empirical CDF\n",
        "total_counts = sum(counts)\n",
        "cumulative_counts = np.cumsum(counts) / total_counts\n",
        "\n",
        "# Create the empirical CDF plot\n",
        "plt.figure(figsize=(10, 6))\n",
        "plt.plot(range(1, 366), cumulative_counts, color='blue')\n",
        "plt.title(\"Empirical Cumulative Distribution Function (CDF)\")\n",
        "plt.xlabel(\"Day of the Year\")\n",
        "plt.ylabel(\"Cumulative Probability\")\n",
        "plt.grid(True, alpha=0.5, linestyle='--')\n",
        "plt.show()\n"
      ]
    },
    {
      "cell_type": "code",
      "execution_count": null,
      "metadata": {
        "id": "4hTqk8UIxoIE",
        "outputId": "292677cf-dd07-49fa-c314-6f6f9f7572b5"
      },
      "outputs": [
        {
          "data": {
            "image/png": "[encoded data removed]",
            "text/plain": [
              "<Figure size 720x432 with 1 Axes>"
            ]
          },
          "metadata": {
            "needs_background": "light"
          },
          "output_type": "display_data"
        }
      ],
      "source": [
        "import numpy as np\n",
        "import matplotlib.pyplot as plt\n",
        "\n",
        "# Rank the observed counts\n",
        "sorted_counts = sorted(counts)\n",
        "\n",
        "# Generate uniform quantiles\n",
        "uniform_quantiles = [np.percentile(sorted_counts, p) for p in np.linspace(0, 100, len(sorted_counts))]\n",
        "\n",
        "# Plot Q-Q plot\n",
        "plt.figure(figsize=(10, 6))\n",
        "plt.plot(uniform_quantiles, sorted_counts, marker='o', linestyle='', color='blue')\n",
        "plt.plot([min(uniform_quantiles), max(uniform_quantiles)],\n",
        "         [min(uniform_quantiles), max(uniform_quantiles)],\n",
        "         color='red', linestyle='--')\n",
        "plt.title(\"Q-Q Plot against Uniform Distribution\")\n",
        "plt.xlabel(\"Uniform Quantiles\")\n",
        "plt.ylabel(\"Observed Quantiles\")\n",
        "plt.grid(True)\n",
        "plt.tight_layout()\n",
        "plt.show()\n"
      ]
    },
    {
      "cell_type": "markdown",
      "source": [
        "Reference:ChatGPT"
      ],
      "metadata": {
        "id": "JJHNKKpg0915"
      }
    },
    {
      "cell_type": "markdown",
      "metadata": {
        "id": "4983wTTlkaG0"
      },
      "source": [
        "___\n",
        "\n",
        "**(d)** Perform a Chi-square Test **and** a Kolmogorov-Smirnov Test to study how well the data is modeled by a uniform distribution.\n",
        "\n",
        "___"
      ]
    },
    {
      "cell_type": "markdown",
      "metadata": {
        "id": "0dWUUfznkl5k"
      },
      "source": [
        "## Ans.\n"
      ]
    },
    {
      "cell_type": "code",
      "execution_count": null,
      "metadata": {
        "id": "F3XLVod3kuIc",
        "outputId": "0439026e-4a7b-408f-c6e0-5e33576c48dc"
      },
      "outputs": [
        {
          "name": "stdout",
          "output_type": "stream",
          "text": [
            "480715\n",
            "1352.7233599950073 1.2489373800065057e-113\n"
          ]
        }
      ],
      "source": [
        "from scipy.stats import chisquare\n",
        "\n",
        "# Calculate expected counts for a uniform distribution\n",
        "total_birthdays = sum(counts)\n",
        "print(total_birthdays)\n",
        "expected_counts = [total_birthdays / 365] * 365\n",
        "\n",
        "# Perform Chi-square test\n",
        "chi2_stat, chi2_p_val = chisquare(counts, expected_counts)\n",
        "\n",
        "print(chi2_stat, chi2_p_val)"
      ]
    },
    {
      "cell_type": "markdown",
      "metadata": {
        "id": "C6lD9tW9xoIE"
      },
      "source": [
        "1352.7233599950073 represents the sum of the squared differences between the observed and expected counts, divided by the expected counts. A large chi-squared statistic suggests that the observed and expected frequencies are different.\n",
        "\n",
        "The p-value represents the probability of obtaining a test statistic as extreme as, or more extreme than, the one computed from the sample, assuming that the null hypothesis is true.\n",
        "\n",
        "For the Chi-square goodness-of-fit test:\n",
        "\n",
        "Null Hypothesis ($H_0$): The observed frequencies follow the expected (uniform) distribution.\n",
        "\n",
        "Alternative Hypothesis ($H_1$): The observed frequencies do not follow the expected distribution.\n",
        "\n",
        "Interpretation:\n",
        "\n",
        "The p-value is incredibly small (essentially zero for all practical purposes).\n",
        "Typically, a significance level (alpha) of 0.05 is used. If the p-value is less than or equal to 0.05, you would reject the null hypothesis.\n",
        "Given our p-value is way smaller than 0.05 (or any reasonable significance level), we reject the null hypothesis.\n",
        "The conclusion is that the birthday data does not follow a uniform distribution. The observed frequencies of birthdays significantly deviate from what we would expect if birthdays were uniformly distributed across the days of the year."
      ]
    },
    {
      "cell_type": "code",
      "execution_count": null,
      "metadata": {
        "id": "A526aUxexoIE",
        "outputId": "863c3e08-7e6a-4f9b-8eea-5435bf30e285"
      },
      "outputs": [
        {
          "name": "stdout",
          "output_type": "stream",
          "text": [
            "0.9967569141799195 0.0\n"
          ]
        }
      ],
      "source": [
        "from scipy.stats import kstest\n",
        "\n",
        "# Normalize the counts to create a probability distribution\n",
        "proportions = [count / total_birthdays for count in counts]\n",
        "\n",
        "# Perform K-S test against a uniform distribution\n",
        "ks_stat, ks_p_val = kstest(proportions, 'uniform')\n",
        "\n",
        "print(ks_stat, ks_p_val)"
      ]
    },
    {
      "cell_type": "markdown",
      "metadata": {
        "id": "qsprzJAUxoIE"
      },
      "source": [
        "Test Statistic (ks_stat): 0.9967569141799195\n",
        "\n",
        "This value is the maximum difference between the empirical cumulative distribution function (CDF) of the observed data and the CDF of the theoretical uniform distribution. The K-S test statistic quantifies the greatest vertical distance between the two CDFs. A larger K-S statistic suggests a larger discrepancy between the observed data and the theoretical distribution.\n",
        "\n",
        "P-value (ks_p_val): 0\n",
        "\n",
        "The p-value in the context of the K-S test tells us the probability of observing a test statistic as extreme as, or more extreme than, the one computed, assuming that the null hypothesis is true. A p-value of 0 is an indication that the test statistic is highly significant, suggesting that the observed sample deviates significantly from the theoretical distribution. Given our p-value is 0, which is smaller than 0.05 (or any reasonable significance level), we reject the null hypothesis. Therefore, the birthday data does not come from a uniform distribution. The observed distribution of birthdays significantly differs from a uniform distribution across the days of the year. The K-S test provides strong evidence against the hypothesis that the data is uniformly distributed."
      ]
    },
    {
      "cell_type": "markdown",
      "source": [
        "Reference:ChatGPT"
      ],
      "metadata": {
        "id": "88WKLsd506Vr"
      }
    },
    {
      "cell_type": "markdown",
      "metadata": {
        "id": "ga-5b3SSkoKp"
      },
      "source": [
        "___\n",
        "\n",
        "**(e)** Since you have an extensive dataset of birthday frequency, you can directly use the nonparametric bootstrap to estimate the probability of at least two people sharing birthdays in a group of $n$. Plot the bootstrap estimate and $95\\%$ CI for $n\\in\\{15,16,\\ldots,30\\}$, and compare against the plot in part $(b)$.\n",
        "\n",
        "___"
      ]
    },
    {
      "cell_type": "markdown",
      "metadata": {
        "id": "puJK5Zkio3RD"
      },
      "source": [
        "## Ans.\n"
      ]
    },
    {
      "cell_type": "code",
      "execution_count": null,
      "metadata": {
        "id": "C-wjdzFHxoIF",
        "outputId": "489f80ad-eb55-4719-ac6d-2805bc78bb69"
      },
      "outputs": [
        {
          "data": {
            "image/png": "[encoded data removed]",
            "text/plain": [
              "<Figure size 864x432 with 1 Axes>"
            ]
          },
          "metadata": {
            "needs_background": "light"
          },
          "output_type": "display_data"
        }
      ],
      "source": [
        "# Defining n_values as a list of group sizes from 15 to 30\n",
        "n_values = list(range(15, 31))\n",
        "\n",
        "# Running the simulation and calculation again with the defined n_values\n",
        "simulated_probabilities_user = []\n",
        "lower_bounds_user = []\n",
        "upper_bounds_user = []\n",
        "\n",
        "for n in n_values:\n",
        "    p = simulate_birthday_problem(n, T)\n",
        "    simulated_probabilities_user.append(p)\n",
        "    lb, ub = confidence_interval(p, T)\n",
        "    lower_bounds_user.append(lb)\n",
        "    upper_bounds_user.append(ub)\n",
        "\n",
        "# Creating the combined plot\n",
        "plt.figure(figsize=(12, 6))\n",
        "\n",
        "# Plotting the previous results\n",
        "plt.errorbar(group_sizes, probabilities, yerr=errors, fmt='o', capsize=5, color='b', ecolor='r', elinewidth=2, label='Previous Estimate')\n",
        "\n",
        "# Plotting the user's simulation results\n",
        "plt.errorbar(n_values, simulated_probabilities_user, yerr=[simulated_probabilities_user[i] - lower_bounds_user[i] for i in range(len(lower_bounds_user))], fmt='o', capsize=5, color='g', ecolor='y', elinewidth=2, label='User Simulation')\n",
        "\n",
        "plt.xlabel('Group Size')\n",
        "plt.ylabel('Probability')\n",
        "plt.title('Comparison of Estimated Probabilities with 95% CI by Group Size')\n",
        "plt.xticks(n_values)\n",
        "plt.grid(True, linestyle='-', alpha=0.7)\n",
        "plt.legend()\n",
        "plt.show()\n"
      ]
    },
    {
      "cell_type": "markdown",
      "source": [
        "Reference:ChatGPT"
      ],
      "metadata": {
        "id": "2_DVlIJC02rK"
      }
    },
    {
      "cell_type": "markdown",
      "metadata": {
        "id": "FJhVnfbFb4GI"
      },
      "source": [
        "___\n",
        "___\n",
        "\n",
        "# Question 4: Benford's Law (30 pts)\n",
        "\n",
        "In this question, we will use the Chi-square test to study *Benford's law* in a variety of setttings. Consider a data set consisting of $n$ different numbers, and look at the leading digit of each number (for example, the leading digit of $123.456$ is $1$, and the leading digit of $-0.423$ is $4$). For many data sets, the fraction of leading digits that equal $1$ is much higher than $1/9$ (i.e., what it would be if uniformlly distributed); in fact, the probability distribution of the different leading digits $1, 2, \\ldots, 9$ is far from uniform.\n",
        "\n",
        "This observation has been observed to hold in measurements of distances to galaxies, numbers appearing in tax forms and many other settings, and has been used to detect fraud among other uses. See [the Wikipedia page](https://en.wikipedia.org/wiki/Benford\\%27s_law) for a description of this phenomena, and [this blog post](https://terrytao.wordpress.com/2009/07/03/benfords-law-zipfs-law-and-the-pareto-distribution/) for an interesting related discussion. More recently, this has also been (supposedly) misused in (supposedly) detecting (supposed) fraud in election results -- see [this Stand-Up Maths](https://www.youtube.com/watch?v=etx0k1nLn78&t=4s) video for a great example of how data analysis should be done!\n",
        "\n"
      ]
    },
    {
      "cell_type": "markdown",
      "metadata": {
        "id": "xCLoBig-b4GI"
      },
      "source": [
        "___\n",
        "\n",
        "**(a)** First, we will study this phenomena in a *synthetic* dataset. For this, compute the first digits of $n!$ for the first $1500$ integers, and plot their empirical histogram. You can use the code fragment provided to generate the first $n$ factorials.\n",
        "___\n"
      ]
    },
    {
      "cell_type": "markdown",
      "metadata": {
        "id": "YljDZzRgp_G8"
      },
      "source": [
        "## Ans."
      ]
    },
    {
      "cell_type": "code",
      "execution_count": 5,
      "metadata": {
        "id": "77FZ8tmCb4GI",
        "colab": {
          "base_uri": "https://localhost:8080/",
          "height": 564
        },
        "outputId": "7eaea63b-766b-4456-9010-0ef9be58b8f3"
      },
      "outputs": [
        {
          "output_type": "display_data",
          "data": {
            "text/plain": [
              "<Figure size 1000x600 with 1 Axes>"
            ],
            "image/png": "[encoded data removed]"
          },
          "metadata": {}
        }
      ],
      "source": [
        "import numpy as np\n",
        "import scipy as sp\n",
        "import matplotlib.pyplot as plt\n",
        "from scipy.special import factorial\n",
        "\n",
        "\n",
        "n = 1500\n",
        "n_fact = factorial(np.arange(n),exact=True)\n",
        "first_digit = np.zeros(n)\n",
        "for i in range(n):\n",
        "  first_digit[i] = int(str(n_fact[i])[0])\n",
        "\n",
        "count = np.zeros(10)\n",
        "for i in range(1, 10):\n",
        "    count[i] = np.sum(first_digit == i)\n",
        "\n",
        "plt.figure(figsize=(10, 6))\n",
        "plt.bar(np.arange(1, 10), count[1:], tick_label=np.arange(1, 10))\n",
        "plt.xlabel('First Digit')\n",
        "plt.ylabel('Frequency')\n",
        "plt.title('First Digit Frequency in Factorials (1-1500)')\n",
        "plt.grid(True)\n",
        "plt.show()\n"
      ]
    },
    {
      "cell_type": "markdown",
      "source": [
        "Reference:ChatGPT"
      ],
      "metadata": {
        "id": "UHHPuc6N01IV"
      }
    },
    {
      "cell_type": "markdown",
      "metadata": {
        "id": "HBT-fHg8b4GI"
      },
      "source": [
        "___\n",
        "**(b)** Use a Chi-square test to determine how well the data can be modeled using a uniform distribution.\n",
        "\n",
        "___\n"
      ]
    },
    {
      "cell_type": "markdown",
      "metadata": {
        "id": "0cfhwR8NqeWa"
      },
      "source": [
        "## Ans."
      ]
    },
    {
      "cell_type": "code",
      "execution_count": 8,
      "metadata": {
        "id": "Ehn4QDNZb4GI",
        "colab": {
          "base_uri": "https://localhost:8080/"
        },
        "outputId": "db83496a-73df-41e7-ac5f-05e8ca10d740"
      },
      "outputs": [
        {
          "output_type": "stream",
          "name": "stdout",
          "text": [
            "Chi2 Stat: 670.8000000000002\n",
            "P Value: 1.3805718582880795e-139\n"
          ]
        }
      ],
      "source": [
        "from scipy.stats import chisquare\n",
        "\n",
        "e_unif = np.full(9, n/9) #expected value\n",
        "\n",
        "chi_stat, p = chisquare(count[1:], f_exp=e_unif)\n",
        "\n",
        "print(\"Chi2 Stat:\", chi_stat)\n",
        "print(\"P Value:\", p)"
      ]
    },
    {
      "cell_type": "markdown",
      "source": [
        "Reference:ChatGPT"
      ],
      "metadata": {
        "id": "vLR3npJW0zrW"
      }
    },
    {
      "cell_type": "markdown",
      "metadata": {
        "id": "okLmo5b2b4GI"
      },
      "source": [
        "___\n",
        "\n",
        "**(c)** Next, use a Chi-square test to test how well the data is modeled using the 'Benford's Law' distribution:\n",
        "$$p(d)= \\log _{10}(d+1)-\\log _{10}(d), \\quad d\\in\\{1,2,\\ldots,9\\}$$\n",
        "\n",
        "\n",
        "___"
      ]
    },
    {
      "cell_type": "code",
      "execution_count": 10,
      "metadata": {
        "id": "oz3YDgLpb4GI",
        "colab": {
          "base_uri": "https://localhost:8080/"
        },
        "outputId": "9ee675ba-f673-4360-b15a-d66c94d63237"
      },
      "outputs": [
        {
          "output_type": "stream",
          "name": "stdout",
          "text": [
            "Chi2 Stat: 9.456569118464648\n",
            "P Value: 0.3052548339606756\n"
          ]
        }
      ],
      "source": [
        "import scipy\n",
        "\n",
        "benf_p = [np.log10(d + 1) - np.log10(d) for d in range(1, 10)]\n",
        "\n",
        "# Calculate the expected frequencies for each digit\n",
        "e_benf = np.array(benf_p) * n\n",
        "\n",
        "# Running the chi-square test\n",
        "chi_stat, p = scipy.stats.chisquare(count[1:], f_exp = e_benf)\n",
        "\n",
        "print(\"Chi2 Stat:\", chi_stat)\n",
        "print(\"P Value:\", p)\n"
      ]
    },
    {
      "cell_type": "markdown",
      "source": [
        "Reference:ChatGPT"
      ],
      "metadata": {
        "id": "RiY8P-dC0yU6"
      }
    },
    {
      "cell_type": "markdown",
      "metadata": {
        "id": "rVl8W5m9b4GI"
      },
      "source": [
        "___\n",
        "\n",
        "**(d)** Finally, we will repeat this analysis with a more natural dataset. The dataset `us_pop.csv` contains the US population in 100,000 different zip codes in the year 2010, and the numbers range from less than ten to almost 100,000. As above, compute the histogram of the leading digits, and use the Chi-square test to see how well the data is modeled via the uniform and the Benford's law distributions.\n",
        "___"
      ]
    },
    {
      "cell_type": "markdown",
      "metadata": {
        "id": "rKyZ12L2srUZ"
      },
      "source": [
        "## Ans."
      ]
    },
    {
      "cell_type": "code",
      "execution_count": null,
      "metadata": {
        "id": "vl7qScg0b4GI"
      },
      "outputs": [],
      "source": [
        "from google.colab import files\n",
        "uploaded = files.upload()"
      ]
    },
    {
      "cell_type": "code",
      "source": [
        "import pandas as pd\n",
        "df = pd.read_csv('us_pop.csv')"
      ],
      "metadata": {
        "id": "v1bdw0TAz-M7"
      },
      "execution_count": 12,
      "outputs": []
    },
    {
      "cell_type": "code",
      "source": [
        "pp = df['population']\n",
        "\n",
        "numone = pp.astype(str).str[0].astype(int) #first digit\n",
        "\n",
        "plt.figure(figsize=(10, 6))\n",
        "numone.hist(bins=range(1, 11), align='left', rwidth=0.8)\n",
        "plt.xticks(range(1, 10))\n",
        "plt.xlabel('First Digit')\n",
        "plt.ylabel('Frequency')\n",
        "plt.title('Histogram of First Digits of Population in Zip Codes')\n",
        "plt.grid(axis='y')\n",
        "\n",
        "plt.show()"
      ],
      "metadata": {
        "colab": {
          "base_uri": "https://localhost:8080/",
          "height": 564
        },
        "id": "6u-zLbtG0A4K",
        "outputId": "73eed384-c8bd-47c1-b3bc-7abba732b2d8"
      },
      "execution_count": 13,
      "outputs": [
        {
          "output_type": "display_data",
          "data": {
            "text/plain": [
              "<Figure size 1000x600 with 1 Axes>"
            ],
            "image/png": "[encoded data removed]"
          },
          "metadata": {}
        }
      ]
    },
    {
      "cell_type": "code",
      "source": [
        "from scipy.stats import chisquare\n",
        "import numpy as np\n",
        "\n",
        "count = numone.value_counts().sort_index()\n",
        "\n",
        "e_unif = np.full(9, len(numone) / 9)\n",
        "\n",
        "chi_stat, p = chisquare(count, e_unif)\n",
        "\n",
        "print(\"Chi-square Statistic (Uniform):\", chi_stat)\n",
        "print(\"P-value (Uniform):\", p)"
      ],
      "metadata": {
        "colab": {
          "base_uri": "https://localhost:8080/"
        },
        "id": "LHv-FFEj0ME8",
        "outputId": "ed1fbad6-5315-4339-d36f-2560c38cb2e4"
      },
      "execution_count": 14,
      "outputs": [
        {
          "output_type": "stream",
          "name": "stdout",
          "text": [
            "Chi-square Statistic (Uniform): 50323.53572\n",
            "P-value (Uniform): 0.0\n"
          ]
        }
      ]
    },
    {
      "cell_type": "code",
      "source": [
        "benf_p = np.log10(1 + 1 / np.arange(1, 10)) #faster way to compute benford's law referenced by chatGPT\n",
        "e_benf = benf_p * len(numone)\n",
        "\n",
        "# Perform the chi-square test\n",
        "chi_stat, p = chisquare(count, e_benf)\n",
        "\n",
        "print(\"Chi-square Statistic (Benford):\", chi_stat)\n",
        "print(\"P-value (Benford):\", p)"
      ],
      "metadata": {
        "colab": {
          "base_uri": "https://localhost:8080/"
        },
        "id": "ky_NfePe0VRe",
        "outputId": "60414f89-beba-4e7e-ac5f-efba91b9cef4"
      },
      "execution_count": 15,
      "outputs": [
        {
          "output_type": "stream",
          "name": "stdout",
          "text": [
            "Chi-square Statistic (Benford): 11.843226818111097\n",
            "P-value (Benford): 0.15833698137848726\n"
          ]
        }
      ]
    },
    {
      "cell_type": "markdown",
      "source": [
        "Reference:ChatGPT"
      ],
      "metadata": {
        "id": "yKi415br0rHO"
      }
    },
    {
      "cell_type": "markdown",
      "metadata": {
        "id": "adS-uJlsuEPA"
      },
      "source": [
        "**(e) (Optional for all students)** To understand how the Benford's law distribution originates, the important idea is that when a random variable $X$ ranges over several orders (say between $0$ and $10^6$), then it is better modelled by saying that $\\log_{10}(X)$ is uniformly distributed on interval $[0,6]$ (rather than $X$ being uniform on $[0,10^6]$. Using this, can you derive the the exact probabilities for each of the leading digits."
      ]
    },
    {
      "cell_type": "code",
      "execution_count": null,
      "metadata": {
        "id": "D3iMUEvEuRu8"
      },
      "outputs": [],
      "source": []
    }
  ],
  "metadata": {
    "colab": {
      "provenance": [],
      "include_colab_link": true
    },
    "kernelspec": {
      "display_name": "Python 3",
      "language": "python",
      "name": "python3"
    },
    "language_info": {
      "codemirror_mode": {
        "name": "ipython",
        "version": 3
      },
      "file_extension": ".py",
      "mimetype": "text/x-python",
      "name": "python",
      "nbconvert_exporter": "python",
      "pygments_lexer": "ipython3",
      "version": "3.8.8"
    }
  },
  "nbformat": 4,
  "nbformat_minor": 0
}